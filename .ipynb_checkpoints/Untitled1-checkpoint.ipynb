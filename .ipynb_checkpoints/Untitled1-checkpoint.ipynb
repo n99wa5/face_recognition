{
 "cells": [
  {
   "cell_type": "code",
   "execution_count": 12,
   "metadata": {},
   "outputs": [],
   "source": [
    "import cv2\n",
    "count = 0\n",
    "\n",
    "def resize_without_deformation(image, size = (112, 112)):\n",
    "    height, width, _ = image.shape\n",
    "    longest_edge = max(height, width)\n",
    "    top, bottom, left, right = 0, 0, 0, 0\n",
    "    if height < longest_edge:\n",
    "        height_diff = longest_edge - height\n",
    "        top = int(height_diff / 2)\n",
    "        bottom = height_diff - top\n",
    "    elif width < longest_edge:\n",
    "        width_diff = longest_edge - width\n",
    "        left = int(width_diff / 2)\n",
    "        right = width_diff - left\n",
    "\n",
    "    image_with_border = cv2.copyMakeBorder(image, top , bottom, left, right, cv2.BORDER_CONSTANT, value = [0, 0, 0])\n",
    "\n",
    "    resized_image = cv2.resize(image_with_border, size)\n",
    "\n",
    "    return resized_image\n",
    "\n",
    "for i in range(1,321):\n",
    "    img = cv2.imread(\"data/s%d.bmp\"%i)\n",
    "    img = resize_without_deformation(img)\n",
    "    cv2.imwrite(\"data/s%d.bmp\"%i, img)"
   ]
  },
  {
   "cell_type": "code",
   "execution_count": null,
   "metadata": {},
   "outputs": [],
   "source": []
  }
 ],
 "metadata": {
  "kernelspec": {
   "display_name": "Python [conda env:py3]",
   "language": "python",
   "name": "conda-env-py3-py"
  },
  "language_info": {
   "codemirror_mode": {
    "name": "ipython",
    "version": 3
   },
   "file_extension": ".py",
   "mimetype": "text/x-python",
   "name": "python",
   "nbconvert_exporter": "python",
   "pygments_lexer": "ipython3",
   "version": "3.6.6"
  }
 },
 "nbformat": 4,
 "nbformat_minor": 2
}
