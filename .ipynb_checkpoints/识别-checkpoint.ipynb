{
 "cells": [
  {
   "cell_type": "code",
   "execution_count": 1,
   "metadata": {},
   "outputs": [],
   "source": [
    "import tensorflow as tf\n",
    "import numpy as np\n",
    "import os\n",
    "import cv2"
   ]
  },
  {
   "cell_type": "code",
   "execution_count": 2,
   "metadata": {},
   "outputs": [],
   "source": [
    "test_dir = \"pictures/\"\n",
    "variables_save_path = \"C:\\\\Users\\\\Administrator\\\\人脸识别\\\\model-parameters.ckpt\"\n",
    "sess = tf.InteractiveSession()\n",
    "CASE_PATH = \"haarcascade_frontalface_default.xml\"\n",
    "face_cascade = cv2.CascadeClassifier(CASE_PATH)"
   ]
  },
  {
   "cell_type": "code",
   "execution_count": 3,
   "metadata": {},
   "outputs": [],
   "source": [
    "def resize_without_deformation(image, size = (112, 112)):\n",
    "    height, width= image.shape\n",
    "    longest_edge = max(height, width)\n",
    "    top, bottom, left, right = 0, 0, 0, 0\n",
    "    if height < longest_edge:\n",
    "        height_diff = longest_edge - height\n",
    "        top = int(height_diff / 2)\n",
    "        bottom = height_diff - top\n",
    "    elif width < longest_edge:\n",
    "        width_diff = longest_edge - width\n",
    "        left = int(width_diff / 2)\n",
    "        right = width_diff - left\n",
    "\n",
    "    image_with_border = cv2.copyMakeBorder(image, top , bottom, left, right, cv2.BORDER_CONSTANT, value = [0, 0, 0])\n",
    "\n",
    "    resized_image = cv2.resize(image_with_border, size)\n",
    "\n",
    "    return resized_image\n"
   ]
  },
  {
   "cell_type": "code",
   "execution_count": 4,
   "metadata": {},
   "outputs": [],
   "source": [
    "def weight_variable(shape):\n",
    "    initial = tf.truncated_normal(shape, stddev=0.1)\n",
    "    return tf.Variable(initial)\n",
    "\n",
    "def basis_variable(shape):\n",
    "    initial = tf.constant(0.1,shape=shape)\n",
    "    return tf.Variable(initial)\n",
    "\n",
    "def conv2d(x,W):\n",
    "    return tf.nn.conv2d(x, W, strides=[1,1,1,1], padding='SAME')\n",
    "\n",
    "def max_pool_2x2(x):\n",
    "    return tf.nn.max_pool(x, ksize=[1,2,2,1], strides=[1,2,2,1], padding='SAME')"
   ]
  },
  {
   "cell_type": "code",
   "execution_count": 5,
   "metadata": {},
   "outputs": [],
   "source": [
    "x = tf.placeholder(\"float\", shape=[None, 112, 112])\n",
    "\n",
    "W_conv1 = weight_variable([5,5,1,32])\n",
    "b_conv1 = basis_variable([32])\n",
    "x_image = tf.reshape(x, [-1,112,112,1])\n",
    "h_conv1 = tf.nn.relu(conv2d(x_image, W_conv1) + b_conv1)\n",
    "h_pool1 = max_pool_2x2(h_conv1)\n",
    "\n",
    "W_conv2 = weight_variable([5,5,32,32])\n",
    "b_conv2 = basis_variable([32])\n",
    "h_conv2 = tf.nn.relu(conv2d(h_pool1, W_conv2) + b_conv2)\n",
    "h_pool2 = max_pool_2x2(h_conv2)\n",
    "\n",
    "W_conv3 = weight_variable([5,5,32,32])\n",
    "b_conv3 = basis_variable([32])\n",
    "h_conv3 = tf.nn.relu(conv2d(h_pool2, W_conv3) + b_conv3)\n",
    "h_pool3 = max_pool_2x2(h_conv3)\n",
    "\n",
    "W_conv4 = weight_variable([5,5,32,64])\n",
    "b_conv4 = basis_variable([64])\n",
    "h_conv4 = tf.nn.relu(conv2d(h_pool3, W_conv4) + b_conv4)\n",
    "h_pool4 = max_pool_2x2(h_conv4)\n",
    "\n",
    "W_fc1 = weight_variable([7*7*64, 2048])\n",
    "b_fc1 = basis_variable([2048])\n",
    "h_pool4_flat = tf.reshape(h_pool4, [-1, 7*7*64])\n",
    "h_fc1 = tf.nn.relu(tf.matmul(h_pool4_flat, W_fc1) + b_fc1)\n",
    "\n",
    "\n",
    "W_fc2 = weight_variable([2048, 41])\n",
    "b_fc2 = basis_variable([41])\n",
    "y_conv = tf.nn.softmax(tf.matmul(h_fc1, W_fc2) + b_fc2)\n",
    "\n"
   ]
  },
  {
   "cell_type": "code",
   "execution_count": 6,
   "metadata": {
    "scrolled": true
   },
   "outputs": [
    {
     "name": "stdout",
     "output_type": "stream",
     "text": [
      "INFO:tensorflow:Restoring parameters from C:\\Users\\Administrator\\人脸识别\\model-parameters.ckpt\n"
     ]
    }
   ],
   "source": [
    "image_list = os.listdir(test_dir)\n",
    "tf.global_variables_initializer().run()\n",
    "saver = tf.train.Saver()\n",
    "saver.restore(sess, variables_save_path)\n",
    "for image_path in image_list:\n",
    "    image = cv2.imread(test_dir + image_path)\n",
    "    gray = cv2.cvtColor(image, cv2.COLOR_BGR2GRAY)\n",
    "    faces = face_cascade.detectMultiScale(image,scaleFactor=1.2,minNeighbors=5,minSize=(5, 5))\n",
    "    for (posx, posy, width, height) in faces:\n",
    "        img = gray[posy:posy+height, posx:posx+width]\n",
    "        img = resize_without_deformation(img)\n",
    "        img = np.asarray(img, dtype = np.float32)\n",
    "        img = img.reshape((1, 112, 112))\n",
    "        img /= 255.0\n",
    "        result = tf.argmax(y_conv,1).eval(feed_dict={x:img})+1\n",
    "        cv2.rectangle(image, (posx, posy), (posx + width, posy + height), (0, 255, 0), 2)\n",
    "        font = cv2.FONT_HERSHEY_SIMPLEX\n",
    "        cv2.putText(image, 'No.%d' % result[0], (posx, posy+17), font, 0.7, (0, 255, 0), 2)\n",
    "    cv2.imshow('', image)\n",
    "    cv2.waitKey(0)\n",
    "    cv2.destroyAllWindows()\n",
    "    "
   ]
  },
  {
   "cell_type": "code",
   "execution_count": null,
   "metadata": {},
   "outputs": [],
   "source": []
  }
 ],
 "metadata": {
  "kernelspec": {
   "display_name": "Python [conda env:py3]",
   "language": "python",
   "name": "conda-env-py3-py"
  },
  "language_info": {
   "codemirror_mode": {
    "name": "ipython",
    "version": 3
   },
   "file_extension": ".py",
   "mimetype": "text/x-python",
   "name": "python",
   "nbconvert_exporter": "python",
   "pygments_lexer": "ipython3",
   "version": "3.6.6"
  }
 },
 "nbformat": 4,
 "nbformat_minor": 2
}
